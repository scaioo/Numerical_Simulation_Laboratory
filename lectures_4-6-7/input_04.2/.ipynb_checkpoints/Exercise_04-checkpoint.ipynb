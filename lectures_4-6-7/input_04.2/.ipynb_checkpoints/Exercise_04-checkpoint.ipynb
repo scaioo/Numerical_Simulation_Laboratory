{
 "cells": [
  {
   "cell_type": "markdown",
   "id": "00d652c4-7960-486f-a312-d995d953dbcc",
   "metadata": {},
   "source": [
    "# <span style=\"color:green\"> Numerical Simulation Laboratory (NSL) </span>\n",
    "## <span style=\"color:blue\">  Numerical exercises 4</span>"
   ]
  },
  {
   "cell_type": "markdown",
   "id": "c7b2b92f-ac52-404e-82ef-3dbdb43521ee",
   "metadata": {},
   "source": [
    "### Exercise 04.1\n",
    "\n",
    "The NSL_SIMULATOR code we have provided compute the total (internal) energy per particle, $E/N$, the potential energy per particle, $U/N$, the kinetic energy per particle, $K/N$, and the temperature, $T$.\n",
    "\n",
    "<span style=\"color:red\"> In this exercise i have included the calculation of the pressure, $P$, inside the Molecular Dynamics code: block averages, progressive average values and progressive uncertainties.</span>\n",
    "\n",
    "To implemet the pressure we utilized the **virial theorem** according to which the pressure in a Lennard-Jones system can be estimated in this way:\n",
    "\n",
    "$$ P = \\rho k_B \\langle T \\rangle + \\frac{1}{3V} \\left\\langle \\sum_{i=1}^{N-1} \\sum_{j\\,(>i)}^N 48\\epsilon \\left[ \\left(\\frac{\\sigma}{|\\vec{r}_i -\\vec{r}_j|}\\right)^{12} - \n",
    "\\frac{1}{2} \\left(\\frac{\\sigma}{|\\vec{r}_i -\\vec{r}_j|}\\right)^6 \\right] \\right\\rangle $$\n",
    "\n",
    "### Exercise 04.2\n",
    "\n",
    "Upgraded the code, <span style=\"color:red\"> we have performed MD simulations via a Lennard-Jones model</span> of Argon ($\\sigma = 0.34$ nm, $\\epsilon/k_B = 120$ K, $m=39.948$ amu) in the following conditions:\n",
    "1. solid phase: $\\rho^\\star = 1.1$, $T^\\star = 0.8$ (cut-off radius: $r_c = 2.2$)\n",
    "2. liquid phase: $\\rho^\\star = 0.8$, $T^\\star = 1.1$ (cut-off radius: $r_c = 2.5$)\n",
    "3. gas phase: $\\rho^\\star = 0.05$, $T^\\star = 1.2$ (cut-off radius: $r_c = 5.0$)\n",
    "\n",
    "below are shown the obtained progressive average values and uncertainties as a functions of the increasing number of blocks for the total (internal) energy per particle, $E/N$, the potential energy per particle, $U/N$, the kinetic energy per particle, $K/N$, the temperature, $T$, and the pressure, $P$, in reduced units!"
   ]
  },
  {
   "cell_type": "code",
   "execution_count": null,
   "id": "677de576-be08-4068-8b49-dfc9f357fb45",
   "metadata": {},
   "outputs": [],
   "source": []
  }
 ],
 "metadata": {
  "kernelspec": {
   "display_name": "Python 3 (ipykernel)",
   "language": "python",
   "name": "python3"
  },
  "language_info": {
   "codemirror_mode": {
    "name": "ipython",
    "version": 3
   },
   "file_extension": ".py",
   "mimetype": "text/x-python",
   "name": "python",
   "nbconvert_exporter": "python",
   "pygments_lexer": "ipython3",
   "version": "3.10.12"
  }
 },
 "nbformat": 4,
 "nbformat_minor": 5
}
